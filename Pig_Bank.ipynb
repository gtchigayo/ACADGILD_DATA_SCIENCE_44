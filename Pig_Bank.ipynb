{
 "cells": [
  {
   "cell_type": "code",
   "execution_count": 6,
   "metadata": {},
   "outputs": [
    {
     "name": "stdout",
     "output_type": "stream",
     "text": [
      "Start or Endstart\n",
      "Add , Withdraw or Check: add\n",
      "Add amount : 672\n",
      "After adding, your updated balance is 672 dollars\n",
      "Start or Endstart\n",
      "Add , Withdraw or Check: withdraw\n",
      "Withdraw amount : 65\n",
      "After withdrawing, your updated balance is 607 rupees\n",
      "Start or Endcheck\n",
      "Start or Endsds\n",
      "Start or Endend\n"
     ]
    }
   ],
   "source": [
    "Balance = 0\n",
    "\n",
    "def addMoney(value):\n",
    "    global Balance\n",
    "    val1=int(value)\n",
    "    Balance =  Balance + val1\n",
    "    print('After adding, your updated balance is {} dollars'.format(Balance))\n",
    "    return\n",
    "    \n",
    "    \n",
    "def withdrawMoney(value):\n",
    "    global Balance\n",
    "    val1=int(value)\n",
    "    Balance = Balance - val1\n",
    "    print('After withdrawing, your updated balance is {} rupees'.format(Balance))\n",
    "    return\n",
    "    \n",
    "def checkMoney():\n",
    "    global Balance\n",
    "    print('Your current balance is {}'.format(Balance))\n",
    "    return\n",
    "\n",
    "StartorEnd = input('Start or End')\n",
    "\n",
    "while (StartorEnd.upper() == 'START'):\n",
    "    \n",
    "    mode = input('Add , Withdraw or Check: ')\n",
    "    \n",
    "    if mode.upper() == 'ADD':\n",
    "        value = input('Add amount : ')\n",
    "        if value.isnumeric():\n",
    "            addMoney(value)\n",
    "        else:\n",
    "            print('Amount can be only numeric')\n",
    "\n",
    "    elif mode.upper() == 'WITHDRAW':\n",
    "        value = input('Withdraw amount : ')\n",
    "        if value.isnumeric():\n",
    "            withdrawMoney(int(value))\n",
    "        else:\n",
    "            print('Amount can be only numeric')\n",
    "            \n",
    "    elif mode.upper() == 'CHECK':\n",
    "        checkMoney()\n",
    "    else:\n",
    "        print('None')\n",
    "    StartorEnd = input('Start or End')\n",
    "    while StartorEnd.upper() not in ['START','END']:\n",
    "        StartorEnd = input('Start or End')\n",
    "        \n",
    "    "
   ]
  },
  {
   "cell_type": "code",
   "execution_count": null,
   "metadata": {},
   "outputs": [],
   "source": []
  }
 ],
 "metadata": {
  "kernelspec": {
   "display_name": "Python 3",
   "language": "python",
   "name": "python3"
  },
  "language_info": {
   "codemirror_mode": {
    "name": "ipython",
    "version": 3
   },
   "file_extension": ".py",
   "mimetype": "text/x-python",
   "name": "python",
   "nbconvert_exporter": "python",
   "pygments_lexer": "ipython3",
   "version": "3.7.0"
  }
 },
 "nbformat": 4,
 "nbformat_minor": 2
}
